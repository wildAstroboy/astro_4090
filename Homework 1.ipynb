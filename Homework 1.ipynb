{
  "cells": [
    {
      "cell_type": "markdown",
      "execution_count": null,
      "metadata": {
        "collapsed": true
      },
      "outputs": [],
      "source": [
        "### Samir Suthar\n",
        "#### Astro 4090\n",
        "#### Homework 1"
      ]
    },
    {
      "cell_type": "markdown",
      "execution_count": null,
      "metadata": {},
      "outputs": [],
      "source": [
        "---\n",
        "##### Question 1.a:\n",
        "\n",
        "Being able to have enough mass that its own gravity ignites fusion in the core.\n",
        "\n",
        "##### Question 1.b:\n",
        "\n",
        "The Eddington Limit is what sets the maximum mass limit for a star.\n"
      ]
    },
    {
      "cell_type": "markdown",
      "execution_count": null,
      "metadata": {},
      "outputs": [],
      "source": [
        "\n",
        "\n",
        "##### Question 1.c:\n",
        "\n",
        "Insert describing text here!\n",
        "\n",
        "\\begin{equation}\n",
        "\\frac{L}{L_{sun}} = [\\frac{M}{M_{sun}}]^{3.8}\n",
        "\\end{equation}\n",
        "\n",
        "Insert describing text here!\n",
        "\n",
        "\\begin{equation}\n",
        "\\frac{R}{R_{sun}} = [\\frac{M}{M_{sun}}]^{0.7}\n",
        "\\end{equation}\n",
        "\n",
        "Insert describing text here!\n",
        "\n",
        "\\begin{equation}\n",
        "\\tau_{M.S} \\propto \\frac{M}{L} \\propto \\frac{M}{M^{3.8}}\n",
        "\\end{equation}\n",
        "\n",
        "Insert describing text here!\n",
        "\n",
        "\\begin{equation}\n",
        "\\tau_{M.S} \\approx 10^{10}yr[\\frac{M}{M_{sun}}]^{-2.8}\n",
        "\\end{equation}\n",
        "\n",
        "---"
      ]
    },
    {
      "cell_type": "markdown",
      "execution_count": null,
      "metadata": {},
      "outputs": [],
      "source": [
        "#### Question 1.d:\n",
        "Using the equation we derived from part c:\n",
        "\n",
        "\\begin{equation}\n",
        "\\tau_{M.S} \\approx 10^{10}yr[\\frac{M}{M_{sun}}]^{-2.8}\n",
        "\\end{equation}\n",
        "\n",
        "Rearraging to solve for M:\n",
        "\n",
        "\\begin{equation}\n",
        "M \\approx [\\frac{\\tau_{M.S}}{10^{10}yr}]^{-2.8}\n",
        "\\end{equation}\n",
        "\n",
        "Plug and Chug!\n",
        "\n",
        "\\begin{equation}\n",
        "M \\approx [\\frac{5e^{-9}}{10^{10}yr}]^{-2.8}M^{sun} \\approx 1.3M_{sun}\n",
        "\\end{equation}"
      ]
    },
    {
      "cell_type": "markdown",
      "execution_count": null,
      "metadata": {
        "trusted": true
      },
      "outputs": [],
      "source": [
        "#### Question 2.a:\n",
        "\n",
        "\\begin{equation}\n",
        "R = R_{sun} = 6.96e^{10}\n",
        "\\end{equation}"
      ]
    },
    {
      "cell_type": "code",
      "execution_count": 54,
      "metadata": {},
      "outputs": [],
      "source": [
        "import matplotlib.pyplot as plt\n",
        "import math as m\n",
        "\n",
        "#M = m.e**(-(1.43678e-10)*x)*(-1.45746e33 + (-2.09405e23 - (1.50435e13)*x)*x)\n",
        "R = 6.96e10 # cm\n",
        "x = np.arange(0, R)\n",
        "M = (1.50435*10**13)*(m.e**(-x*(1.43678*10**-10)))*(x**2-(1.392*10**10)*x+(9.68832*10**19))\n",
        "plt.plot(x, M)\n",
        "#plt.xlim(left=-2, right=40)\n",
        "plt.xlabel('')\n",
        "#plt.ylim(bottom=-6.96e48, top=6.96e10)\n",
        "plt.ylabel('')\n",
        "plt.show()"
      ]
    },
    {
      "cell_type": "code",
      "execution_count": null,
      "metadata": {},
      "outputs": [],
      "source": []
    }
  ],
  "metadata": {
    "kernelspec": {
      "name": "python37164bitbaseconda885e7960da0249b2bb3190d4c8c2c2f8",
      "display_name": "Python 3.7.1 64-bit ('base': conda)",
      "language": "python"
    },
    "language_info": {
      "mimetype": "text/x-python",
      "nbconvert_exporter": "python",
      "name": "python",
      "pygments_lexer": "ipython3",
      "version": "3.7.1-final",
      "file_extension": ".py",
      "codemirror_mode": {
        "version": 3,
        "name": "ipython"
      }
    }
  },
  "nbformat": 4,
  "nbformat_minor": 2
}